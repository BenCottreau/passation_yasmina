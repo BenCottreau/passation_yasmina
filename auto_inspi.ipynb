{
 "cells": [
  {
   "cell_type": "code",
   "execution_count": 8,
   "metadata": {
    "id": "sRPmGN4Evyhx"
   },
   "outputs": [],
   "source": [
    "import matplotlib.pyplot as plt\n",
    "import numpy as np\n",
    "import pandas as pd\n",
    "import tensorflow as tf\n",
    "\n",
    "from sklearn.metrics import accuracy_score, precision_score, recall_score\n",
    "from sklearn.model_selection import train_test_split\n",
    "from tensorflow.keras import layers, losses\n",
    "from tensorflow.keras.datasets import fashion_mnist\n",
    "from tensorflow.keras.models import Model"
   ]
  },
  {
   "cell_type": "code",
   "execution_count": 17,
   "metadata": {
    "colab": {
     "base_uri": "https://urldefense.com/v3/__https://localhost:8080/__;!!FfItdoei9m8slQ!Gs-37tU-yi8U9Gl8Ktq2YkPcGhvNez3bzTlojaP8zurZXlYQtuD4ndyimK8VeN_BZ8o-nwk$ ",
     "height": 299
    },
    "id": "3qyTvpI-v4WA",
    "outputId": "e33efa97-6976-46f7-b57b-d533a056c046"
   },
   "outputs": [
    {
     "data": {
      "text/html": [
       "<div>\n",
       "<style scoped>\n",
       "    .dataframe tbody tr th:only-of-type {\n",
       "        vertical-align: middle;\n",
       "    }\n",
       "\n",
       "    .dataframe tbody tr th {\n",
       "        vertical-align: top;\n",
       "    }\n",
       "\n",
       "    .dataframe thead th {\n",
       "        text-align: right;\n",
       "    }\n",
       "</style>\n",
       "<table border=\"1\" class=\"dataframe\">\n",
       "  <thead>\n",
       "    <tr style=\"text-align: right;\">\n",
       "      <th></th>\n",
       "      <th>1</th>\n",
       "      <th>2</th>\n",
       "      <th>3</th>\n",
       "      <th>4</th>\n",
       "      <th>5</th>\n",
       "      <th>6</th>\n",
       "      <th>7</th>\n",
       "      <th>8</th>\n",
       "      <th>9</th>\n",
       "      <th>10</th>\n",
       "      <th>...</th>\n",
       "      <th>504</th>\n",
       "      <th>505</th>\n",
       "      <th>506</th>\n",
       "      <th>507</th>\n",
       "      <th>508</th>\n",
       "      <th>509</th>\n",
       "      <th>510</th>\n",
       "      <th>511</th>\n",
       "      <th>512</th>\n",
       "      <th>label</th>\n",
       "    </tr>\n",
       "  </thead>\n",
       "  <tbody>\n",
       "    <tr>\n",
       "      <th>0</th>\n",
       "      <td>-0.366197</td>\n",
       "      <td>-0.366197</td>\n",
       "      <td>3.048759</td>\n",
       "      <td>-0.366197</td>\n",
       "      <td>-0.366197</td>\n",
       "      <td>-0.366197</td>\n",
       "      <td>-0.366197</td>\n",
       "      <td>-0.366197</td>\n",
       "      <td>-0.366197</td>\n",
       "      <td>2.424647</td>\n",
       "      <td>...</td>\n",
       "      <td>-0.366197</td>\n",
       "      <td>-0.366197</td>\n",
       "      <td>-0.366197</td>\n",
       "      <td>-0.366197</td>\n",
       "      <td>-0.366197</td>\n",
       "      <td>-0.366197</td>\n",
       "      <td>-0.366197</td>\n",
       "      <td>-0.366197</td>\n",
       "      <td>-0.366197</td>\n",
       "      <td>0</td>\n",
       "    </tr>\n",
       "    <tr>\n",
       "      <th>1</th>\n",
       "      <td>-0.530570</td>\n",
       "      <td>-0.530570</td>\n",
       "      <td>-0.530570</td>\n",
       "      <td>-0.530570</td>\n",
       "      <td>-0.530570</td>\n",
       "      <td>-0.530570</td>\n",
       "      <td>-0.530570</td>\n",
       "      <td>1.552224</td>\n",
       "      <td>-0.530570</td>\n",
       "      <td>-0.530570</td>\n",
       "      <td>...</td>\n",
       "      <td>-0.530570</td>\n",
       "      <td>-0.530570</td>\n",
       "      <td>-0.530570</td>\n",
       "      <td>1.487426</td>\n",
       "      <td>-0.530570</td>\n",
       "      <td>-0.530570</td>\n",
       "      <td>-0.530570</td>\n",
       "      <td>-0.530570</td>\n",
       "      <td>-0.530570</td>\n",
       "      <td>1</td>\n",
       "    </tr>\n",
       "    <tr>\n",
       "      <th>2</th>\n",
       "      <td>2.286273</td>\n",
       "      <td>2.001334</td>\n",
       "      <td>-0.415371</td>\n",
       "      <td>-0.415371</td>\n",
       "      <td>-0.415371</td>\n",
       "      <td>-0.415371</td>\n",
       "      <td>-0.415371</td>\n",
       "      <td>-0.415371</td>\n",
       "      <td>-0.415371</td>\n",
       "      <td>-0.415371</td>\n",
       "      <td>...</td>\n",
       "      <td>2.043547</td>\n",
       "      <td>-0.415371</td>\n",
       "      <td>-0.415371</td>\n",
       "      <td>-0.415371</td>\n",
       "      <td>-0.415371</td>\n",
       "      <td>-0.415371</td>\n",
       "      <td>-0.415371</td>\n",
       "      <td>-0.415371</td>\n",
       "      <td>-0.415371</td>\n",
       "      <td>0</td>\n",
       "    </tr>\n",
       "    <tr>\n",
       "      <th>3</th>\n",
       "      <td>-0.349704</td>\n",
       "      <td>-0.349704</td>\n",
       "      <td>-0.349704</td>\n",
       "      <td>-0.349704</td>\n",
       "      <td>-0.349704</td>\n",
       "      <td>-0.349704</td>\n",
       "      <td>-0.349704</td>\n",
       "      <td>-0.349704</td>\n",
       "      <td>-0.349704</td>\n",
       "      <td>-0.349704</td>\n",
       "      <td>...</td>\n",
       "      <td>-0.349704</td>\n",
       "      <td>-0.349704</td>\n",
       "      <td>-0.349704</td>\n",
       "      <td>-0.349704</td>\n",
       "      <td>2.522732</td>\n",
       "      <td>-0.349704</td>\n",
       "      <td>-0.349704</td>\n",
       "      <td>-0.349704</td>\n",
       "      <td>-0.349704</td>\n",
       "      <td>0</td>\n",
       "    </tr>\n",
       "    <tr>\n",
       "      <th>4</th>\n",
       "      <td>-0.490923</td>\n",
       "      <td>-0.490923</td>\n",
       "      <td>-0.490923</td>\n",
       "      <td>-0.490923</td>\n",
       "      <td>-0.490923</td>\n",
       "      <td>-0.490923</td>\n",
       "      <td>-0.490923</td>\n",
       "      <td>-0.490923</td>\n",
       "      <td>-0.490923</td>\n",
       "      <td>-0.490923</td>\n",
       "      <td>...</td>\n",
       "      <td>-0.490923</td>\n",
       "      <td>-0.490923</td>\n",
       "      <td>-0.490923</td>\n",
       "      <td>-0.490923</td>\n",
       "      <td>-0.490923</td>\n",
       "      <td>-0.490923</td>\n",
       "      <td>-0.490923</td>\n",
       "      <td>-0.490923</td>\n",
       "      <td>-0.490923</td>\n",
       "      <td>0</td>\n",
       "    </tr>\n",
       "  </tbody>\n",
       "</table>\n",
       "<p>5 rows × 513 columns</p>\n",
       "</div>"
      ],
      "text/plain": [
       "          1         2         3         4         5         6         7  \\\n",
       "0 -0.366197 -0.366197  3.048759 -0.366197 -0.366197 -0.366197 -0.366197   \n",
       "1 -0.530570 -0.530570 -0.530570 -0.530570 -0.530570 -0.530570 -0.530570   \n",
       "2  2.286273  2.001334 -0.415371 -0.415371 -0.415371 -0.415371 -0.415371   \n",
       "3 -0.349704 -0.349704 -0.349704 -0.349704 -0.349704 -0.349704 -0.349704   \n",
       "4 -0.490923 -0.490923 -0.490923 -0.490923 -0.490923 -0.490923 -0.490923   \n",
       "\n",
       "          8         9        10  ...       504       505       506       507  \\\n",
       "0 -0.366197 -0.366197  2.424647  ... -0.366197 -0.366197 -0.366197 -0.366197   \n",
       "1  1.552224 -0.530570 -0.530570  ... -0.530570 -0.530570 -0.530570  1.487426   \n",
       "2 -0.415371 -0.415371 -0.415371  ...  2.043547 -0.415371 -0.415371 -0.415371   \n",
       "3 -0.349704 -0.349704 -0.349704  ... -0.349704 -0.349704 -0.349704 -0.349704   \n",
       "4 -0.490923 -0.490923 -0.490923  ... -0.490923 -0.490923 -0.490923 -0.490923   \n",
       "\n",
       "        508       509       510       511       512  label  \n",
       "0 -0.366197 -0.366197 -0.366197 -0.366197 -0.366197      0  \n",
       "1 -0.530570 -0.530570 -0.530570 -0.530570 -0.530570      1  \n",
       "2 -0.415371 -0.415371 -0.415371 -0.415371 -0.415371      0  \n",
       "3  2.522732 -0.349704 -0.349704 -0.349704 -0.349704      0  \n",
       "4 -0.490923 -0.490923 -0.490923 -0.490923 -0.490923      0  \n",
       "\n",
       "[5 rows x 513 columns]"
      ]
     },
     "execution_count": 17,
     "metadata": {},
     "output_type": "execute_result"
    }
   ],
   "source": [
    "# Download the train dataset\n",
    "dataframe_train = pd.read_csv('time-series-anomaly-detection-knowledge-main/time-series-anomaly-detection-knowledge-main/data_students/Earthquakes/0.5/train.csv', header=0)\n",
    "raw_data_train = dataframe_train.values\n",
    "dataframe_train.head()"
   ]
  },
  {
   "cell_type": "code",
   "execution_count": 13,
   "metadata": {
    "colab": {
     "base_uri": "https://urldefense.com/v3/__https://localhost:8080/__;!!FfItdoei9m8slQ!Gs-37tU-yi8U9Gl8Ktq2YkPcGhvNez3bzTlojaP8zurZXlYQtuD4ndyimK8VeN_BZ8o-nwk$ ",
     "height": 299
    },
    "id": "XtcwEnV-v8yu",
    "outputId": "227da2c4-bd4f-4a74-f9d8-8c05a36894ca"
   },
   "outputs": [
    {
     "data": {
      "text/html": [
       "<div>\n",
       "<style scoped>\n",
       "    .dataframe tbody tr th:only-of-type {\n",
       "        vertical-align: middle;\n",
       "    }\n",
       "\n",
       "    .dataframe tbody tr th {\n",
       "        vertical-align: top;\n",
       "    }\n",
       "\n",
       "    .dataframe thead th {\n",
       "        text-align: right;\n",
       "    }\n",
       "</style>\n",
       "<table border=\"1\" class=\"dataframe\">\n",
       "  <thead>\n",
       "    <tr style=\"text-align: right;\">\n",
       "      <th></th>\n",
       "      <th>1</th>\n",
       "      <th>2</th>\n",
       "      <th>3</th>\n",
       "      <th>4</th>\n",
       "      <th>5</th>\n",
       "      <th>6</th>\n",
       "      <th>7</th>\n",
       "      <th>8</th>\n",
       "      <th>9</th>\n",
       "      <th>10</th>\n",
       "      <th>...</th>\n",
       "      <th>504</th>\n",
       "      <th>505</th>\n",
       "      <th>506</th>\n",
       "      <th>507</th>\n",
       "      <th>508</th>\n",
       "      <th>509</th>\n",
       "      <th>510</th>\n",
       "      <th>511</th>\n",
       "      <th>512</th>\n",
       "      <th>label</th>\n",
       "    </tr>\n",
       "  </thead>\n",
       "  <tbody>\n",
       "    <tr>\n",
       "      <th>0</th>\n",
       "      <td>-0.468873</td>\n",
       "      <td>2.748038</td>\n",
       "      <td>1.626291</td>\n",
       "      <td>-0.468873</td>\n",
       "      <td>-0.468873</td>\n",
       "      <td>-0.468873</td>\n",
       "      <td>-0.468873</td>\n",
       "      <td>-0.468873</td>\n",
       "      <td>1.663373</td>\n",
       "      <td>-0.468873</td>\n",
       "      <td>...</td>\n",
       "      <td>1.617020</td>\n",
       "      <td>-0.468873</td>\n",
       "      <td>2.062011</td>\n",
       "      <td>-0.468873</td>\n",
       "      <td>-0.468873</td>\n",
       "      <td>-0.468873</td>\n",
       "      <td>-0.468873</td>\n",
       "      <td>1.635561</td>\n",
       "      <td>-0.468873</td>\n",
       "      <td>1</td>\n",
       "    </tr>\n",
       "    <tr>\n",
       "      <th>1</th>\n",
       "      <td>-0.504030</td>\n",
       "      <td>-0.504030</td>\n",
       "      <td>-0.504030</td>\n",
       "      <td>-0.504030</td>\n",
       "      <td>-0.504030</td>\n",
       "      <td>1.421887</td>\n",
       "      <td>-0.504030</td>\n",
       "      <td>-0.504030</td>\n",
       "      <td>-0.504030</td>\n",
       "      <td>-0.504030</td>\n",
       "      <td>...</td>\n",
       "      <td>-0.504030</td>\n",
       "      <td>1.431328</td>\n",
       "      <td>1.903366</td>\n",
       "      <td>-0.504030</td>\n",
       "      <td>1.440768</td>\n",
       "      <td>1.554058</td>\n",
       "      <td>-0.504030</td>\n",
       "      <td>-0.504030</td>\n",
       "      <td>-0.504030</td>\n",
       "      <td>1</td>\n",
       "    </tr>\n",
       "    <tr>\n",
       "      <th>2</th>\n",
       "      <td>-0.571091</td>\n",
       "      <td>1.575378</td>\n",
       "      <td>-0.571091</td>\n",
       "      <td>-0.571091</td>\n",
       "      <td>-0.571091</td>\n",
       "      <td>-0.571091</td>\n",
       "      <td>-0.571091</td>\n",
       "      <td>-0.571091</td>\n",
       "      <td>-0.571091</td>\n",
       "      <td>1.841469</td>\n",
       "      <td>...</td>\n",
       "      <td>-0.571091</td>\n",
       "      <td>-0.571091</td>\n",
       "      <td>-0.571091</td>\n",
       "      <td>-0.571091</td>\n",
       "      <td>-0.571091</td>\n",
       "      <td>1.681814</td>\n",
       "      <td>-0.571091</td>\n",
       "      <td>-0.571091</td>\n",
       "      <td>2.284954</td>\n",
       "      <td>1</td>\n",
       "    </tr>\n",
       "    <tr>\n",
       "      <th>3</th>\n",
       "      <td>-0.453334</td>\n",
       "      <td>-0.453334</td>\n",
       "      <td>-0.453334</td>\n",
       "      <td>-0.453334</td>\n",
       "      <td>-0.453334</td>\n",
       "      <td>-0.453334</td>\n",
       "      <td>2.002988</td>\n",
       "      <td>-0.453334</td>\n",
       "      <td>-0.453334</td>\n",
       "      <td>-0.453334</td>\n",
       "      <td>...</td>\n",
       "      <td>1.847524</td>\n",
       "      <td>-0.453334</td>\n",
       "      <td>-0.453334</td>\n",
       "      <td>-0.453334</td>\n",
       "      <td>1.816432</td>\n",
       "      <td>-0.453334</td>\n",
       "      <td>-0.453334</td>\n",
       "      <td>-0.453334</td>\n",
       "      <td>-0.453334</td>\n",
       "      <td>1</td>\n",
       "    </tr>\n",
       "    <tr>\n",
       "      <th>4</th>\n",
       "      <td>-0.447201</td>\n",
       "      <td>-0.447201</td>\n",
       "      <td>-0.447201</td>\n",
       "      <td>-0.447201</td>\n",
       "      <td>-0.447201</td>\n",
       "      <td>-0.447201</td>\n",
       "      <td>-0.447201</td>\n",
       "      <td>-0.447201</td>\n",
       "      <td>-0.447201</td>\n",
       "      <td>-0.447201</td>\n",
       "      <td>...</td>\n",
       "      <td>-0.447201</td>\n",
       "      <td>-0.447201</td>\n",
       "      <td>1.727518</td>\n",
       "      <td>-0.447201</td>\n",
       "      <td>-0.447201</td>\n",
       "      <td>-0.447201</td>\n",
       "      <td>-0.447201</td>\n",
       "      <td>-0.447201</td>\n",
       "      <td>-0.447201</td>\n",
       "      <td>1</td>\n",
       "    </tr>\n",
       "  </tbody>\n",
       "</table>\n",
       "<p>5 rows × 513 columns</p>\n",
       "</div>"
      ],
      "text/plain": [
       "          1         2         3         4         5         6         7  \\\n",
       "0 -0.468873  2.748038  1.626291 -0.468873 -0.468873 -0.468873 -0.468873   \n",
       "1 -0.504030 -0.504030 -0.504030 -0.504030 -0.504030  1.421887 -0.504030   \n",
       "2 -0.571091  1.575378 -0.571091 -0.571091 -0.571091 -0.571091 -0.571091   \n",
       "3 -0.453334 -0.453334 -0.453334 -0.453334 -0.453334 -0.453334  2.002988   \n",
       "4 -0.447201 -0.447201 -0.447201 -0.447201 -0.447201 -0.447201 -0.447201   \n",
       "\n",
       "          8         9        10  ...       504       505       506       507  \\\n",
       "0 -0.468873  1.663373 -0.468873  ...  1.617020 -0.468873  2.062011 -0.468873   \n",
       "1 -0.504030 -0.504030 -0.504030  ... -0.504030  1.431328  1.903366 -0.504030   \n",
       "2 -0.571091 -0.571091  1.841469  ... -0.571091 -0.571091 -0.571091 -0.571091   \n",
       "3 -0.453334 -0.453334 -0.453334  ...  1.847524 -0.453334 -0.453334 -0.453334   \n",
       "4 -0.447201 -0.447201 -0.447201  ... -0.447201 -0.447201  1.727518 -0.447201   \n",
       "\n",
       "        508       509       510       511       512  label  \n",
       "0 -0.468873 -0.468873 -0.468873  1.635561 -0.468873      1  \n",
       "1  1.440768  1.554058 -0.504030 -0.504030 -0.504030      1  \n",
       "2 -0.571091  1.681814 -0.571091 -0.571091  2.284954      1  \n",
       "3  1.816432 -0.453334 -0.453334 -0.453334 -0.453334      1  \n",
       "4 -0.447201 -0.447201 -0.447201 -0.447201 -0.447201      1  \n",
       "\n",
       "[5 rows x 513 columns]"
      ]
     },
     "execution_count": 13,
     "metadata": {},
     "output_type": "execute_result"
    }
   ],
   "source": [
    "# Download the test dataset\n",
    "dataframe_test = pd.read_csv('time-series-anomaly-detection-knowledge-main/time-series-anomaly-detection-knowledge-main/data_students/Earthquakes/0.5/test.csv', header=0)\n",
    "raw_data_test = dataframe_test.values\n",
    "dataframe_test.head()"
   ]
  },
  {
   "cell_type": "code",
   "execution_count": 11,
   "metadata": {
    "id": "O55t42YmwAAN"
   },
   "outputs": [
    {
     "name": "stdout",
     "output_type": "stream",
     "text": [
      "<class 'numpy.ndarray'>\n"
     ]
    }
   ],
   "source": [
    "# The last element contains the labels\n",
    "train_labels = raw_data_train[:, -1]\n",
    "#print(train_labels)\n",
    "test_labels = raw_data_test[:, -1]\n",
    "#print(test_labels)\n",
    "\n",
    "# The other data points are the wine data\n",
    "train_data = raw_data_train[:, 0:-1]\n",
    "test_data = raw_data_test[:, 0:-1]\n",
    "print(type(train_data))"
   ]
  },
  {
   "cell_type": "code",
   "execution_count": 51,
   "metadata": {
    "id": "Jz7QGbrNwEQW"
   },
   "outputs": [
    {
     "name": "stdout",
     "output_type": "stream",
     "text": [
      "tf.Tensor(\n",
      "[[0.23306939 0.23468924 0.23306939 ... 0.23468924 0.23468924 0.23468924]\n",
      " [0.05109634 0.05093766 0.05093766 ... 0.05093766 0.05093766 0.05093766]\n",
      " [0.21841292 0.21982166 0.21982166 ... 0.21841292 0.21841292 0.21841292]\n",
      " ...\n",
      " [0.21984042 0.21843378 0.21843378 ... 0.21984042 0.21984042 0.21984042]\n",
      " [0.02883462 0.02629156 0.0255795  ... 0.06464083 0.06464083 0.06464083]\n",
      " [0.04967303 0.04993718 0.04993718 ... 0.04993718 0.04993718 0.04993718]], shape=(951, 152), dtype=float32)\n"
     ]
    }
   ],
   "source": [
    "min_val = tf.reduce_min(train_data)\n",
    "max_val = tf.reduce_max(train_data)\n",
    "\n",
    "train_data = (train_data - min_val) / (max_val - min_val)\n",
    "#test_data = (test_data - min_val) / (max_val - min_val)\n",
    "\n",
    "train_data = tf.cast(train_data, tf.float32)\n",
    "#test_data = tf.cast(test_data, tf.float32)\n",
    "print(train_data)"
   ]
  },
  {
   "cell_type": "code",
   "execution_count": 44,
   "metadata": {
    "colab": {
     "base_uri": "https://urldefense.com/v3/__https://localhost:8080/__;!!FfItdoei9m8slQ!Gs-37tU-yi8U9Gl8Ktq2YkPcGhvNez3bzTlojaP8zurZXlYQtuD4ndyimK8VeN_BZ8o-nwk$ "
    },
    "id": "BKeZBiWqwHFO",
    "outputId": "adf55495-c320-49c0-87b9-204bba245cad"
   },
   "outputs": [
    {
     "name": "stdout",
     "output_type": "stream",
     "text": [
      "tf.Tensor(\n",
      "[[0.23306939 0.23468924 0.23306939 ... 0.23468924 0.23468924 0.23468924]\n",
      " [0.05109634 0.05093766 0.05093766 ... 0.05093766 0.05093766 0.05093766]\n",
      " [0.21841292 0.21982166 0.21982166 ... 0.21841292 0.21841292 0.21841292]\n",
      " ...\n",
      " [0.21984042 0.21843378 0.21843378 ... 0.21984042 0.21984042 0.21984042]\n",
      " [0.02883462 0.02629156 0.0255795  ... 0.06464083 0.06464083 0.06464083]\n",
      " [0.04967303 0.04993718 0.04993718 ... 0.04993718 0.04993718 0.04993718]], shape=(903, 152), dtype=float32)\n"
     ]
    }
   ],
   "source": [
    "train_labels = train_labels.astype(bool)\n",
    "test_labels = test_labels.astype(bool)\n",
    "#print(train_labels)\n",
    "normal_train_data = train_data[train_labels]\n",
    "#print(normal_train_data)\n",
    "normal_test_data = test_data[test_labels]\n",
    "\n",
    "anomalous_train_data = train_data[~train_labels]\n",
    "print(anomalous_train_data)\n",
    "anomalous_test_data = test_data[~test_labels]"
   ]
  },
  {
   "cell_type": "code",
   "execution_count": 48,
   "metadata": {
    "colab": {
     "base_uri": "https://urldefense.com/v3/__https://localhost:8080/__;!!FfItdoei9m8slQ!Gs-37tU-yi8U9Gl8Ktq2YkPcGhvNez3bzTlojaP8zurZXlYQtuD4ndyimK8VeN_BZ8o-nwk$ ",
     "height": 281
    },
    "id": "BJpSm_smwKBM",
    "outputId": "f8524a44-6e44-4d0f-bc35-28de58d8e2b7"
   },
   "outputs": [
    {
     "data": {
      "image/png": "[encoded data removed]",
      "text/plain": [
       "<Figure size 432x288 with 1 Axes>"
      ]
     },
     "metadata": {
      "needs_background": "light"
     },
     "output_type": "display_data"
    }
   ],
   "source": [
    "plt.grid()\n",
    "plt.plot(np.arange(152), normal_train_data[1])\n",
    "plt.title(\"A Normal Wafer data\")\n",
    "plt.show()"
   ]
  },
  {
   "cell_type": "code",
   "execution_count": 49,
   "metadata": {
    "colab": {
     "base_uri": "https://urldefense.com/v3/__https://localhost:8080/__;!!FfItdoei9m8slQ!Gs-37tU-yi8U9Gl8Ktq2YkPcGhvNez3bzTlojaP8zurZXlYQtuD4ndyimK8VeN_BZ8o-nwk$ ",
     "height": 281
    },
    "id": "n5mpfrbFwMtl",
    "outputId": "cb89708f-30c9-4028-a360-60f743ac5852"
   },
   "outputs": [
    {
     "data": {
      "image/png": "[encoded data removed]",
      "text/plain": [
       "<Figure size 432x288 with 1 Axes>"
      ]
     },
     "metadata": {
      "needs_background": "light"
     },
     "output_type": "display_data"
    }
   ],
   "source": [
    "plt.grid()\n",
    "plt.plot(np.arange(152), anomalous_train_data[1])\n",
    "plt.title(\"An Anomalous Wafer data\")\n",
    "plt.show()"
   ]
  },
  {
   "cell_type": "code",
   "execution_count": null,
   "metadata": {
    "id": "eDMi2pUzwPeU"
   },
   "outputs": [],
   "source": [
    "class AnomalyDetector(Model):\n",
    "  def __init__(self):\n",
    "    super(AnomalyDetector, self).__init__()\n",
    "    self.encoder = tf.keras.Sequential([\n",
    "      layers.Dense(32, activation=\"relu\"),\n",
    "      layers.Dense(16, activation=\"relu\"),\n",
    "      layers.Dense(8, activation=\"relu\")])\n",
    "    \n",
    "    self.decoder = tf.keras.Sequential([\n",
    "      layers.Dense(16, activation=\"relu\"),\n",
    "      layers.Dense(32, activation=\"relu\"),\n",
    "      layers.Dense(152, activation=\"sigmoid\")])\n",
    "    \n",
    "  def call(self, x):\n",
    "    encoded = self.encoder(x)\n",
    "    decoded = self.decoder(encoded)\n",
    "    return decoded\n",
    "\n",
    "autoencoder = AnomalyDetector()"
   ]
  },
  {
   "cell_type": "code",
   "execution_count": null,
   "metadata": {
    "id": "YWiBqmqewR8w"
   },
   "outputs": [],
   "source": [
    "autoencoder.compile(optimizer='adam', loss='mae')"
   ]
  },
  {
   "cell_type": "code",
   "execution_count": 11,
   "metadata": {
    "colab": {
     "base_uri": "https://urldefense.com/v3/__https://localhost:8080/__;!!FfItdoei9m8slQ!Gs-37tU-yi8U9Gl8Ktq2YkPcGhvNez3bzTlojaP8zurZXlYQtuD4ndyimK8VeN_BZ8o-nwk$ "
    },
    "id": "a2ZTZrcYxIBY",
    "outputId": "733930ae-14e1-4986-fe19-0e8c19132341"
   },
   "outputs": [
    {
     "name": "stdout",
     "output_type": "stream",
     "text": [
      "Epoch 1/20\n",
      "1/1 [==============================] - 1s 1s/step - loss: 0.3157 - val_loss: 0.3155\n",
      "Epoch 2/20\n",
      "1/1 [==============================] - 0s 194ms/step - loss: 0.3152 - val_loss: 0.3149\n",
      "Epoch 3/20\n",
      "1/1 [==============================] - 0s 47ms/step - loss: 0.3146 - val_loss: 0.3142\n",
      "Epoch 4/20\n",
      "1/1 [==============================] - 0s 47ms/step - loss: 0.3139 - val_loss: 0.3135\n",
      "Epoch 5/20\n",
      "1/1 [==============================] - 0s 31ms/step - loss: 0.3131 - val_loss: 0.3126\n",
      "Epoch 6/20\n",
      "1/1 [==============================] - 0s 47ms/step - loss: 0.3122 - val_loss: 0.3116\n",
      "Epoch 7/20\n",
      "1/1 [==============================] - 0s 38ms/step - loss: 0.3112 - val_loss: 0.3105\n",
      "Epoch 8/20\n",
      "1/1 [==============================] - 0s 58ms/step - loss: 0.3101 - val_loss: 0.3092\n",
      "Epoch 9/20\n",
      "1/1 [==============================] - 0s 42ms/step - loss: 0.3088 - val_loss: 0.3078\n",
      "Epoch 10/20\n",
      "1/1 [==============================] - 0s 31ms/step - loss: 0.3074 - val_loss: 0.3063\n",
      "Epoch 11/20\n",
      "1/1 [==============================] - 0s 38ms/step - loss: 0.3058 - val_loss: 0.3046\n",
      "Epoch 12/20\n",
      "1/1 [==============================] - 0s 49ms/step - loss: 0.3041 - val_loss: 0.3027\n",
      "Epoch 13/20\n",
      "1/1 [==============================] - ETA: 0s - loss: 0.302 - 0s 36ms/step - loss: 0.3022 - val_loss: 0.3006\n",
      "Epoch 14/20\n",
      "1/1 [==============================] - 0s 47ms/step - loss: 0.3000 - val_loss: 0.2983\n",
      "Epoch 15/20\n",
      "1/1 [==============================] - 0s 38ms/step - loss: 0.2977 - val_loss: 0.2958\n",
      "Epoch 16/20\n",
      "1/1 [==============================] - 0s 47ms/step - loss: 0.2952 - val_loss: 0.2931\n",
      "Epoch 17/20\n",
      "1/1 [==============================] - 0s 53ms/step - loss: 0.2925 - val_loss: 0.2901\n",
      "Epoch 18/20\n",
      "1/1 [==============================] - 0s 47ms/step - loss: 0.2895 - val_loss: 0.2869\n",
      "Epoch 19/20\n",
      "1/1 [==============================] - 0s 53ms/step - loss: 0.2862 - val_loss: 0.2833\n",
      "Epoch 20/20\n",
      "1/1 [==============================] - 0s 63ms/step - loss: 0.2826 - val_loss: 0.2795\n"
     ]
    }
   ],
   "source": [
    "history = autoencoder.fit(normal_train_data, normal_train_data, \n",
    "          epochs=20, \n",
    "          batch_size=512,\n",
    "          validation_data=(test_data, test_data),\n",
    "          shuffle=True)"
   ]
  },
  {
   "cell_type": "code",
   "execution_count": 12,
   "metadata": {
    "colab": {
     "base_uri": "https://urldefense.com/v3/__https://localhost:8080/__;!!FfItdoei9m8slQ!Gs-37tU-yi8U9Gl8Ktq2YkPcGhvNez3bzTlojaP8zurZXlYQtuD4ndyimK8VeN_BZ8o-nwk$ ",
     "height": 283
    },
    "id": "LJx5qY1LwVaa",
    "outputId": "1022f7c2-af2f-4fdf-90d2-2b21484e1345"
   },
   "outputs": [
    {
     "data": {
      "text/plain": [
       "<matplotlib.legend.Legend at 0x1c4d7043f70>"
      ]
     },
     "execution_count": 12,
     "metadata": {},
     "output_type": "execute_result"
    },
    {
     "data": {
      "image/png": "[encoded data removed]",
      "text/plain": [
       "<Figure size 432x288 with 1 Axes>"
      ]
     },
     "metadata": {
      "needs_background": "light"
     },
     "output_type": "display_data"
    }
   ],
   "source": [
    "plt.plot(history.history[\"loss\"], label=\"Training Loss\")\n",
    "plt.plot(history.history[\"val_loss\"], label=\"Validation Loss\")\n",
    "plt.legend()"
   ]
  },
  {
   "cell_type": "code",
   "execution_count": 13,
   "metadata": {
    "colab": {
     "base_uri": "https://urldefense.com/v3/__https://localhost:8080/__;!!FfItdoei9m8slQ!Gs-37tU-yi8U9Gl8Ktq2YkPcGhvNez3bzTlojaP8zurZXlYQtuD4ndyimK8VeN_BZ8o-nwk$ ",
     "height": 265
    },
    "id": "DwPu7V5ZwX9b",
    "outputId": "ba202d9b-9572-4c55-9c66-9f4d2c7629ed"
   },
   "outputs": [
    {
     "data": {
      "image/png": "[encoded data removed]",
      "text/plain": [
       "<Figure size 432x288 with 1 Axes>"
      ]
     },
     "metadata": {
      "needs_background": "light"
     },
     "output_type": "display_data"
    }
   ],
   "source": [
    "encoded_data = autoencoder.encoder(normal_test_data).numpy()\n",
    "decoded_data = autoencoder.decoder(encoded_data).numpy()\n",
    "\n",
    "plt.plot(normal_test_data[0], 'b')\n",
    "plt.plot(decoded_data[0], 'r')\n",
    "plt.fill_between(np.arange(152), decoded_data[0], normal_test_data[0], color='lightcoral')\n",
    "plt.legend(labels=[\"Input\", \"Reconstruction\", \"Error\"])\n",
    "plt.show()"
   ]
  },
  {
   "cell_type": "code",
   "execution_count": 14,
   "metadata": {
    "colab": {
     "base_uri": "https://urldefense.com/v3/__https://localhost:8080/__;!!FfItdoei9m8slQ!Gs-37tU-yi8U9Gl8Ktq2YkPcGhvNez3bzTlojaP8zurZXlYQtuD4ndyimK8VeN_BZ8o-nwk$ ",
     "height": 265
    },
    "id": "PA7C9q7hwa9p",
    "outputId": "1408cbb0-a11e-40e1-9848-23000379ac7d"
   },
   "outputs": [
    {
     "data": {
      "image/png": "[encoded data removed]",
      "text/plain": [
       "<Figure size 432x288 with 1 Axes>"
      ]
     },
     "metadata": {
      "needs_background": "light"
     },
     "output_type": "display_data"
    }
   ],
   "source": [
    "encoded_data = autoencoder.encoder(anomalous_test_data).numpy()\n",
    "decoded_data = autoencoder.decoder(encoded_data).numpy()\n",
    "\n",
    "plt.plot(anomalous_test_data[0], 'b')\n",
    "plt.plot(decoded_data[0], 'r')\n",
    "plt.fill_between(np.arange(152), decoded_data[0], anomalous_test_data[0], color='lightcoral')\n",
    "plt.legend(labels=[\"Input\", \"Reconstruction\", \"Error\"])\n",
    "plt.show()"
   ]
  },
  {
   "cell_type": "code",
   "execution_count": 15,
   "metadata": {
    "colab": {
     "base_uri": "https://urldefense.com/v3/__https://localhost:8080/__;!!FfItdoei9m8slQ!Gs-37tU-yi8U9Gl8Ktq2YkPcGhvNez3bzTlojaP8zurZXlYQtuD4ndyimK8VeN_BZ8o-nwk$ ",
     "height": 279
    },
    "id": "u9lXxh6Gwd0S",
    "outputId": "d08f3c90-2e75-4ce7-f4d6-5675c5efe5bd"
   },
   "outputs": [
    {
     "data": {
      "image/png": "[encoded data removed]",
      "text/plain": [
       "<Figure size 432x288 with 1 Axes>"
      ]
     },
     "metadata": {
      "needs_background": "light"
     },
     "output_type": "display_data"
    }
   ],
   "source": [
    "reconstructions = autoencoder.predict(normal_train_data)\n",
    "train_loss = tf.keras.losses.mae(reconstructions, normal_train_data)\n",
    "\n",
    "plt.hist(train_loss[None,:], bins=50)\n",
    "plt.xlabel(\"Train loss\")\n",
    "plt.ylabel(\"No of examples\")\n",
    "plt.show()"
   ]
  },
  {
   "cell_type": "code",
   "execution_count": 16,
   "metadata": {
    "colab": {
     "base_uri": "https://urldefense.com/v3/__https://localhost:8080/__;!!FfItdoei9m8slQ!Gs-37tU-yi8U9Gl8Ktq2YkPcGhvNez3bzTlojaP8zurZXlYQtuD4ndyimK8VeN_BZ8o-nwk$ "
    },
    "id": "anWKVg13wgei",
    "outputId": "9066a7f3-3be2-4fd0-8c65-3a890fb5d887"
   },
   "outputs": [
    {
     "name": "stdout",
     "output_type": "stream",
     "text": [
      "Threshold:  0.28029367\n"
     ]
    }
   ],
   "source": [
    "threshold = np.mean(train_loss) + np.std(train_loss)\n",
    "print(\"Threshold: \", threshold)"
   ]
  },
  {
   "cell_type": "code",
   "execution_count": 17,
   "metadata": {
    "colab": {
     "base_uri": "https://urldefense.com/v3/__https://localhost:8080/__;!!FfItdoei9m8slQ!Gs-37tU-yi8U9Gl8Ktq2YkPcGhvNez3bzTlojaP8zurZXlYQtuD4ndyimK8VeN_BZ8o-nwk$ ",
     "height": 280
    },
    "id": "iaRG9Z6TwjtA",
    "outputId": "47b1b9d2-3b90-4756-b278-54c72e2eae64"
   },
   "outputs": [
    {
     "data": {
      "image/png": "[encoded data removed]",
      "text/plain": [
       "<Figure size 432x288 with 1 Axes>"
      ]
     },
     "metadata": {
      "needs_background": "light"
     },
     "output_type": "display_data"
    }
   ],
   "source": [
    "reconstructions = autoencoder.predict(anomalous_test_data)\n",
    "test_loss = tf.keras.losses.mae(reconstructions, anomalous_test_data)\n",
    "\n",
    "plt.hist(test_loss[None, :], bins=50)\n",
    "plt.xlabel(\"Test loss\")\n",
    "plt.ylabel(\"No of examples\")\n",
    "plt.show()"
   ]
  },
  {
   "cell_type": "code",
   "execution_count": 18,
   "metadata": {
    "id": "XdWODyOmwm0G"
   },
   "outputs": [],
   "source": [
    "def predict(model, data, threshold):\n",
    "  reconstructions = model(data)\n",
    "  loss = tf.keras.losses.mae(reconstructions, data)\n",
    "  return tf.math.less(loss, threshold)\n",
    "\n",
    "def print_stats(predictions, labels):\n",
    "  print(\"Accuracy = {}\".format(accuracy_score(labels, predictions)))\n",
    "  print(\"Precision = {}\".format(precision_score(labels, predictions)))\n",
    "  print(\"Recall = {}\".format(recall_score(labels, predictions)))"
   ]
  },
  {
   "cell_type": "code",
   "execution_count": null,
   "metadata": {},
   "outputs": [],
   "source": []
  },
  {
   "cell_type": "code",
   "execution_count": null,
   "metadata": {},
   "outputs": [],
   "source": []
  }
 ],
 "metadata": {
  "colab": {
   "name": "Untitled0.ipynb",
   "provenance": []
  },
  "kernelspec": {
   "display_name": "Python 3",
   "language": "python",
   "name": "python3"
  },
  "language_info": {
   "codemirror_mode": {
    "name": "ipython",
    "version": 3
   },
   "file_extension": ".py",
   "mimetype": "text/x-python",
   "name": "python",
   "nbconvert_exporter": "python",
   "pygments_lexer": "ipython3",
   "version": "3.8.8"
  }
 },
 "nbformat": 4,
 "nbformat_minor": 4
}
